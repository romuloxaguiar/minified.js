{
  "nbformat": 4,
  "nbformat_minor": 0,
  "metadata": {
    "colab": {
      "name": "Aprendendo Phyton.ipynb",
      "provenance": [],
      "authorship_tag": "ABX9TyMZlmQWwqwuk1rCU/n0dbXC",
      "include_colab_link": true
    },
    "kernelspec": {
      "name": "python3",
      "display_name": "Python 3"
    }
  },
  "cells": [
    {
      "cell_type": "markdown",
      "metadata": {
        "id": "view-in-github",
        "colab_type": "text"
      },
      "source": [
        "<a href=\"https://colab.research.google.com/github/romuloxaguiar/minified.js/blob/master/Aprendendo_Phyton.ipynb\" target=\"_parent\"><img src=\"https://colab.research.google.com/assets/colab-badge.svg\" alt=\"Open In Colab\"/></a>"
      ]
    },
    {
      "cell_type": "code",
      "metadata": {
        "id": "tAhxXthNDiFi",
        "colab_type": "code",
        "colab": {
          "base_uri": "https://localhost:8080/",
          "height": 53
        },
        "outputId": "f113f730-5d4d-4228-f0d8-f2a53e0bb0e2"
      },
      "source": [
        "# -*- coding: utf-8 -*-\n",
        "print (\"Olá mundo!\")\n",
        "print (\"outra mensagem\")"
      ],
      "execution_count": 6,
      "outputs": [
        {
          "output_type": "stream",
          "text": [
            "Olá mundo!\n",
            "outra mensagem\n"
          ],
          "name": "stdout"
        }
      ]
    },
    {
      "cell_type": "code",
      "metadata": {
        "id": "D90KkkBVDnWa",
        "colab_type": "code",
        "colab": {
          "base_uri": "https://localhost:8080/",
          "height": 53
        },
        "outputId": "f01a2fb9-5c5f-4992-f88d-d3827ef1daf2"
      },
      "source": [
        "# testando o comentario\n",
        "print (\"testando o comentario\")\n",
        "'''\n",
        "testando comentarios de\n",
        "muitas linhas\n",
        "'''"
      ],
      "execution_count": 7,
      "outputs": [
        {
          "output_type": "stream",
          "text": [
            "testando o comentario\n"
          ],
          "name": "stdout"
        },
        {
          "output_type": "execute_result",
          "data": {
            "text/plain": [
              "'\\ntestando comentarios de\\nmuitas linhas\\n'"
            ]
          },
          "metadata": {
            "tags": []
          },
          "execution_count": 7
        }
      ]
    },
    {
      "cell_type": "code",
      "metadata": {
        "id": "hChTIGWBDsCd",
        "colab_type": "code",
        "colab": {
          "base_uri": "https://localhost:8080/",
          "height": 89
        },
        "outputId": "f1c5463d-e802-489c-b728-4b4748f08d24"
      },
      "source": [
        "#fazer operaçoes matemáticas\n",
        "print(2 +2)\n",
        "print (2 - 2)\n",
        "print(2*2)\n",
        "print (2/2)"
      ],
      "execution_count": 8,
      "outputs": [
        {
          "output_type": "stream",
          "text": [
            "4\n",
            "0\n",
            "4\n",
            "1.0\n"
          ],
          "name": "stdout"
        }
      ]
    },
    {
      "cell_type": "code",
      "metadata": {
        "id": "e4iAtl5FD3tV",
        "colab_type": "code",
        "colab": {
          "base_uri": "https://localhost:8080/",
          "height": 53
        },
        "outputId": "d11f9f3b-a417-48cc-a2a8-a4ec37d16325"
      },
      "source": [
        "#Teste de Exponenciaçao \n",
        "print (2 **3)\n",
        "\n",
        "print (10 % 3)"
      ],
      "execution_count": 9,
      "outputs": [
        {
          "output_type": "stream",
          "text": [
            "8\n",
            "1\n"
          ],
          "name": "stdout"
        }
      ]
    }
  ]
}